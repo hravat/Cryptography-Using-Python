{
 "cells": [
  {
   "cell_type": "code",
   "execution_count": 1,
   "metadata": {},
   "outputs": [],
   "source": [
    "import numpy as np"
   ]
  },
  {
   "cell_type": "code",
   "execution_count": 2,
   "metadata": {},
   "outputs": [],
   "source": [
    "def vignere_cypher(message,mode,key):\n",
    "    if mode=='encrypt':\n",
    "        key_org=key\n",
    "        while len(key) < len(message):\n",
    "            key=key+key\n",
    "        i=0 \n",
    "        encrpyted_message = ''\n",
    "        key_list = [k for k in key]\n",
    "        for char in message:\n",
    "            encrpyted_message=encrpyted_message+chr(((ord(char) + ord(key_list[i]))%26)+ord('A'))\n",
    "            i += 1\n",
    "            \n",
    "            \n",
    "            \n",
    "        return key_org,encrpyted_message     \n",
    "\n",
    "\n",
    "    if mode=='decrypt':\n",
    "        while len(key) < len(message):\n",
    "            key=key+key\n",
    "        i=0 \n",
    "        decrypt_message = ''\n",
    "        key_list = [k for k in key]\n",
    "        for char in message:\n",
    "            decrypt_message=decrypt_message+chr(((ord(char)-ord(key_list[i])+26)%26)+ord('A'))\n",
    "            i += 1\n",
    "            \n",
    "        return decrypt_message        "
   ]
  },
  {
   "cell_type": "code",
   "execution_count": 3,
   "metadata": {},
   "outputs": [
    {
     "data": {
      "text/plain": [
       "'GCYCZFMLYLEIM'"
      ]
     },
     "execution_count": 3,
     "metadata": {},
     "output_type": "execute_result"
    }
   ],
   "source": [
    "key,encrpyted_message=vignere_cypher(message='GEEKSFORGEEKS',mode='encrypt',key='AYUSH')\n",
    "encrpyted_message"
   ]
  },
  {
   "cell_type": "code",
   "execution_count": 4,
   "metadata": {},
   "outputs": [
    {
     "data": {
      "text/plain": [
       "'GEEKSFORGEEKS'"
      ]
     },
     "execution_count": 4,
     "metadata": {},
     "output_type": "execute_result"
    }
   ],
   "source": [
    "decrypt_message=vignere_cypher(message=encrpyted_message,mode='decrypt',key=key)\n",
    "decrypt_message"
   ]
  }
 ],
 "metadata": {
  "kernelspec": {
   "display_name": "Python 3",
   "language": "python",
   "name": "python3"
  },
  "language_info": {
   "codemirror_mode": {
    "name": "ipython",
    "version": 3
   },
   "file_extension": ".py",
   "mimetype": "text/x-python",
   "name": "python",
   "nbconvert_exporter": "python",
   "pygments_lexer": "ipython3",
   "version": "3.7.3"
  }
 },
 "nbformat": 4,
 "nbformat_minor": 4
}
