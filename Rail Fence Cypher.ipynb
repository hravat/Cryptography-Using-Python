{
 "cells": [
  {
   "cell_type": "code",
   "execution_count": 1,
   "metadata": {},
   "outputs": [],
   "source": [
    "import numpy as np\n",
    "from langdetect import detect"
   ]
  },
  {
   "cell_type": "code",
   "execution_count": 2,
   "metadata": {},
   "outputs": [],
   "source": [
    "def rail_fence_cypher(message,mode,rows):\n",
    "    if mode == 'encrypt': \n",
    "        cypher_list=[]\n",
    "        cols=len(message)\n",
    "        char_arr = np.empty((rows,cols), dtype='str')\n",
    "        char_arr[:]=''\n",
    "        col=0\n",
    "        row=0\n",
    "        direction = 'down'\n",
    "        encrypt_message = ''\n",
    "        for char in message:\n",
    "                char_arr[row][col]=char\n",
    "                if (row==rows-1):\n",
    "                    direction = 'down'  \n",
    "                if (row==0):\n",
    "                    direction = 'up'  \n",
    "                \n",
    "                if direction=='down':\n",
    "                    row=row-1\n",
    "                if direction=='up':\n",
    "                    row=row+1\n",
    "                col=col+1   \n",
    "        for char_list in char_arr:\n",
    "            for char in char_list:\n",
    "                encrypt_message=encrypt_message+char\n",
    "           \n",
    "        return encrypt_message    \n",
    "    \n",
    "    if mode == 'decrypt':\n",
    "        cypher_list=[]\n",
    "        cols=len(message)\n",
    "        char_arr = np.empty((rows,cols), dtype='str')\n",
    "        char_arr[:]=''\n",
    "        col=0\n",
    "        row=0\n",
    "        direction = 'down'\n",
    "        encrypt_message = ''\n",
    "        for char in message:\n",
    "                char_arr[row][col]='*'\n",
    "                if (row==rows-1):\n",
    "                    direction = 'down'  \n",
    "                if (row==0):\n",
    "                    direction = 'up'  \n",
    "                \n",
    "                if direction=='down':\n",
    "                    row=row-1\n",
    "                if direction=='up':\n",
    "                    row=row+1\n",
    "                col=col+1\n",
    "                \n",
    "        char_cnt=0\n",
    "        \n",
    "        for j in range(rows):\n",
    "            for i in range(cols):\n",
    "                if char_arr[j][i]=='*':\n",
    "                    char_arr[j][i]=message[char_cnt]\n",
    "                    char_cnt=char_cnt+1\n",
    "                \n",
    "        decrypt_message =''\n",
    "        \n",
    "        for i in range(cols):\n",
    "            for j in range(rows):\n",
    "                if char_arr[j][i] != '':\n",
    "                    decrypt_message=decrypt_message+char_arr[j][i]\n",
    "                    \n",
    "    \n",
    "    \n",
    "    return decrypt_message            \n",
    "\n",
    "    "
   ]
  },
  {
   "cell_type": "code",
   "execution_count": 3,
   "metadata": {},
   "outputs": [
    {
     "data": {
      "text/plain": [
       "'d aledtesalfnh twee '"
      ]
     },
     "execution_count": 3,
     "metadata": {},
     "output_type": "execute_result"
    }
   ],
   "source": [
    "encrypt_message=rail_fence_cypher(\"defend the east wall\",'encrypt',4)\n",
    "encrypt_message"
   ]
  },
  {
   "cell_type": "code",
   "execution_count": 4,
   "metadata": {},
   "outputs": [
    {
     "data": {
      "text/plain": [
       "'defend the east wall'"
      ]
     },
     "execution_count": 4,
     "metadata": {},
     "output_type": "execute_result"
    }
   ],
   "source": [
    "encrypt_message=rail_fence_cypher('d aledtesalfnh twee ','decrypt',4)\n",
    "encrypt_message"
   ]
  },
  {
   "cell_type": "code",
   "execution_count": 5,
   "metadata": {},
   "outputs": [
    {
     "data": {
      "text/plain": [
       "'en'"
      ]
     },
     "execution_count": 5,
     "metadata": {},
     "output_type": "execute_result"
    }
   ],
   "source": [
    "detect(\"defend the east wall\")"
   ]
  },
  {
   "cell_type": "code",
   "execution_count": 6,
   "metadata": {},
   "outputs": [
    {
     "data": {
      "text/plain": [
       "'sq'"
      ]
     },
     "execution_count": 6,
     "metadata": {},
     "output_type": "execute_result"
    }
   ],
   "source": [
    "detect(\"qzqzqzqz\")"
   ]
  }
 ],
 "metadata": {
  "kernelspec": {
   "display_name": "Python 3",
   "language": "python",
   "name": "python3"
  },
  "language_info": {
   "codemirror_mode": {
    "name": "ipython",
    "version": 3
   },
   "file_extension": ".py",
   "mimetype": "text/x-python",
   "name": "python",
   "nbconvert_exporter": "python",
   "pygments_lexer": "ipython3",
   "version": "3.7.3"
  }
 },
 "nbformat": 4,
 "nbformat_minor": 4
}
