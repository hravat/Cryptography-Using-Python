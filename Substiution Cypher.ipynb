{
 "cells": [
  {
   "cell_type": "code",
   "execution_count": 1,
   "metadata": {},
   "outputs": [],
   "source": [
    "import random"
   ]
  },
  {
   "cell_type": "code",
   "execution_count": 2,
   "metadata": {},
   "outputs": [],
   "source": [
    "def substiution_cypher(mode,message,key_dict=None):\n",
    "\n",
    "    if mode=='encrypt':\n",
    "        char_dict = {}\n",
    "        cipher_message = ''\n",
    "\n",
    "        for i in range(26):\n",
    "            char_dict[chr(ord('a') + i)] = i\n",
    "        key_list = list(char_dict.keys())\n",
    "        inv_char_dict = dict(zip(char_dict.values(), char_dict.keys()))\n",
    "\n",
    "        a = random.sample(range(26), 26)\n",
    "        i = 0\n",
    "        for num in a:\n",
    "            char_dict[chr(ord('a') + i)] = inv_char_dict[num]\n",
    "            i += 1\n",
    "\n",
    "        for char in message:\n",
    "            if char in key_list:\n",
    "                cipher_message = cipher_message + char_dict[char]\n",
    "            else:\n",
    "                cipher_message = cipher_message + char\n",
    "\n",
    "        return cipher_message,char_dict\n",
    "\n",
    "    if mode=='decrypt':\n",
    "        inv_char_dict = dict(zip(key_dict.values(), key_dict.keys()))\n",
    "        key_list = list(inv_char_dict.keys())\n",
    "        cipher_message = ''\n",
    "        for char in message:\n",
    "            if char in key_list:\n",
    "                cipher_message=cipher_message+inv_char_dict[char]\n",
    "            else:\n",
    "                cipher_message = cipher_message + char\n",
    "        return cipher_message,None"
   ]
  },
  {
   "cell_type": "code",
   "execution_count": 3,
   "metadata": {},
   "outputs": [
    {
     "name": "stdout",
     "output_type": "stream",
     "text": [
      "iskkf gfbke\n"
     ]
    }
   ],
   "source": [
    "encrypted_message,decrypt_key =substiution_cypher('encrypt','hello world',key_dict=None)\n",
    "print(encrypted_message)"
   ]
  },
  {
   "cell_type": "code",
   "execution_count": 4,
   "metadata": {},
   "outputs": [
    {
     "name": "stdout",
     "output_type": "stream",
     "text": [
      "hello world\n"
     ]
    }
   ],
   "source": [
    "decrypted_message,decrypt_key =substiution_cypher('decrypt',encrypted_message,key_dict=decrypt_key)\n",
    "print(decrypted_message)"
   ]
  }
 ],
 "metadata": {
  "kernelspec": {
   "display_name": "Python 3",
   "language": "python",
   "name": "python3"
  },
  "language_info": {
   "codemirror_mode": {
    "name": "ipython",
    "version": 3
   },
   "file_extension": ".py",
   "mimetype": "text/x-python",
   "name": "python",
   "nbconvert_exporter": "python",
   "pygments_lexer": "ipython3",
   "version": "3.7.3"
  }
 },
 "nbformat": 4,
 "nbformat_minor": 4
}
