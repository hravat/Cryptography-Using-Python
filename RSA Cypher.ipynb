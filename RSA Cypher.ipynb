{
 "cells": [
  {
   "cell_type": "code",
   "execution_count": 1,
   "metadata": {},
   "outputs": [],
   "source": [
    "import sympy\n",
    "import random\n",
    "import math"
   ]
  },
  {
   "cell_type": "code",
   "execution_count": 2,
   "metadata": {},
   "outputs": [],
   "source": [
    "def generate_key():\n",
    "    \n",
    "        #Public Key generation\n",
    "        p=sympy.randprime(10, 100)\n",
    "        q=sympy.randprime(10, 100)\n",
    "        public_key = p*q\n",
    "        t = (p-1)*(q-1)\n",
    "        for e in range(2,t):\n",
    "              if math.gcd(e,t)== 1: \n",
    "                    break\n",
    "        d=sympy.mod_inverse(e,t)\n",
    "\n",
    "        \n",
    "        return e,d,public_key"
   ]
  },
  {
   "cell_type": "code",
   "execution_count": 3,
   "metadata": {},
   "outputs": [],
   "source": [
    "e,d,public_key=generate_key()"
   ]
  },
  {
   "cell_type": "code",
   "execution_count": 4,
   "metadata": {},
   "outputs": [],
   "source": [
    "def rsa_encrypt_cypher(message,e,public_key):\n",
    "    msg_num = ''\n",
    "    encrypt_list = []\n",
    "    for char in message:\n",
    "        rsa_encrypt=(ord(char)**e)%public_key\n",
    "        encrypt_list.append(rsa_encrypt)   \n",
    "    return encrypt_list    "
   ]
  },
  {
   "cell_type": "code",
   "execution_count": 5,
   "metadata": {},
   "outputs": [],
   "source": [
    "message = 'ALL THE BEST'\n",
    "encrypt_list=rsa_encrypt_cypher(message,e,public_key)"
   ]
  },
  {
   "cell_type": "code",
   "execution_count": 6,
   "metadata": {},
   "outputs": [],
   "source": [
    "def rsa_decrypt_cypher(encrypt_list,e,d,public_key):\n",
    "    decrypt_message = ''\n",
    "    for num in encrypt_list:\n",
    "        chr_num = (num**d)%public_key\n",
    "        decrypt_message=decrypt_message+chr(chr_num)\n",
    "    return decrypt_message  "
   ]
  },
  {
   "cell_type": "code",
   "execution_count": 7,
   "metadata": {},
   "outputs": [
    {
     "data": {
      "text/plain": [
       "'ALL THE BEST'"
      ]
     },
     "execution_count": 7,
     "metadata": {},
     "output_type": "execute_result"
    }
   ],
   "source": [
    "decrypt_message=rsa_decrypt_cypher(encrypt_list,e,d,public_key)\n",
    "decrypt_message"
   ]
  }
 ],
 "metadata": {
  "kernelspec": {
   "display_name": "Python 3",
   "language": "python",
   "name": "python3"
  },
  "language_info": {
   "codemirror_mode": {
    "name": "ipython",
    "version": 3
   },
   "file_extension": ".py",
   "mimetype": "text/x-python",
   "name": "python",
   "nbconvert_exporter": "python",
   "pygments_lexer": "ipython3",
   "version": "3.7.3"
  }
 },
 "nbformat": 4,
 "nbformat_minor": 4
}
