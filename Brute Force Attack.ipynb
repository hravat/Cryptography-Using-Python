{
 "cells": [
  {
   "cell_type": "code",
   "execution_count": 1,
   "metadata": {},
   "outputs": [],
   "source": [
    "def ceaser_cipher(key,text,mode):\n",
    "    char_dict={}\n",
    "    cipher_message = ''\n",
    "    for i in range(26):\n",
    "         char_dict[chr(ord('a') + i)]=i\n",
    "    key_list=list(char_dict.keys())\n",
    "    inv_char_dict = dict(zip(char_dict.values(),char_dict.keys()))\n",
    "    if mode == 'encrypt':\n",
    "        for char in text:\n",
    "            if char in key_list:\n",
    "                new_index=(char_dict[char]+key)%26\n",
    "                cipher_message=cipher_message+inv_char_dict[new_index]\n",
    "            else:\n",
    "                cipher_message=cipher_message+char\n",
    "        print(cipher_message)\n",
    "    elif mode == 'decrypt':\n",
    "        for char in text:\n",
    "            if char in key_list:\n",
    "                new_index=(char_dict[char]-key)%26\n",
    "                cipher_message=cipher_message+inv_char_dict[new_index]\n",
    "            else:\n",
    "                cipher_message=cipher_message+char\n",
    "        print(str(key)+':- '+cipher_message)"
   ]
  },
  {
   "cell_type": "code",
   "execution_count": 2,
   "metadata": {},
   "outputs": [
    {
     "name": "stdout",
     "output_type": "stream",
     "text": [
      "0:- rovvy gybvn\n",
      "1:- qnuux fxaum\n",
      "2:- pmttw ewztl\n",
      "3:- olssv dvysk\n",
      "4:- nkrru cuxrj\n",
      "5:- mjqqt btwqi\n",
      "6:- lipps asvph\n",
      "7:- khoor zruog\n",
      "8:- jgnnq yqtnf\n",
      "9:- ifmmp xpsme\n",
      "10:- hello world\n",
      "11:- gdkkn vnqkc\n",
      "12:- fcjjm umpjb\n",
      "13:- ebiil tloia\n",
      "14:- dahhk sknhz\n",
      "15:- czggj rjmgy\n",
      "16:- byffi qilfx\n",
      "17:- axeeh phkew\n",
      "18:- zwddg ogjdv\n",
      "19:- yvccf nficu\n",
      "20:- xubbe mehbt\n",
      "21:- wtaad ldgas\n",
      "22:- vszzc kcfzr\n",
      "23:- uryyb jbeyq\n",
      "24:- tqxxa iadxp\n",
      "25:- spwwz hzcwo\n"
     ]
    }
   ],
   "source": [
    "for i in range(26):\n",
    "    ceaser_cipher(i,'rovvy gybvn','decrypt')"
   ]
  }
 ],
 "metadata": {
  "kernelspec": {
   "display_name": "Python 3",
   "language": "python",
   "name": "python3"
  },
  "language_info": {
   "codemirror_mode": {
    "name": "ipython",
    "version": 3
   },
   "file_extension": ".py",
   "mimetype": "text/x-python",
   "name": "python",
   "nbconvert_exporter": "python",
   "pygments_lexer": "ipython3",
   "version": "3.7.3"
  }
 },
 "nbformat": 4,
 "nbformat_minor": 4
}
