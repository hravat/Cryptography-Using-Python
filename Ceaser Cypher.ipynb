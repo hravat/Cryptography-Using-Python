{
 "cells": [
  {
   "cell_type": "code",
   "execution_count": 1,
   "metadata": {},
   "outputs": [],
   "source": [
    "def ceaser_cipher(key,text,mode):\n",
    "    char_dict={}\n",
    "    cipher_message = ''\n",
    "    for i in range(26):\n",
    "         char_dict[chr(ord('a') + i)]=i\n",
    "    key_list=list(char_dict.keys())\n",
    "    inv_char_dict = dict(zip(char_dict.values(),char_dict.keys()))\n",
    "    if mode == 'encrypt':\n",
    "        for char in text:\n",
    "            if char in key_list:\n",
    "                new_index=(char_dict[char]+key)%26\n",
    "                cipher_message=cipher_message+inv_char_dict[new_index]\n",
    "            else:\n",
    "                cipher_message=cipher_message+char\n",
    "        print(cipher_message)\n",
    "    elif mode == 'decrypt':\n",
    "        for char in text:\n",
    "            if char in key_list:\n",
    "                new_index=(char_dict[char]-key)%26\n",
    "                cipher_message=cipher_message+inv_char_dict[new_index]\n",
    "            else:\n",
    "                cipher_message=cipher_message+char\n",
    "        print(cipher_message)"
   ]
  },
  {
   "cell_type": "code",
   "execution_count": 2,
   "metadata": {},
   "outputs": [
    {
     "name": "stdout",
     "output_type": "stream",
     "text": [
      "rovvy gybvn\n"
     ]
    }
   ],
   "source": [
    "ceaser_cipher(10,'hello world','encrypt')"
   ]
  },
  {
   "cell_type": "code",
   "execution_count": 3,
   "metadata": {},
   "outputs": [
    {
     "name": "stdout",
     "output_type": "stream",
     "text": [
      "hello world\n"
     ]
    }
   ],
   "source": [
    "ceaser_cipher(10,'rovvy gybvn','decrypt')"
   ]
  }
 ],
 "metadata": {
  "kernelspec": {
   "display_name": "Python 3",
   "language": "python",
   "name": "python3"
  },
  "language_info": {
   "codemirror_mode": {
    "name": "ipython",
    "version": 3
   },
   "file_extension": ".py",
   "mimetype": "text/x-python",
   "name": "python",
   "nbconvert_exporter": "python",
   "pygments_lexer": "ipython3",
   "version": "3.7.3"
  }
 },
 "nbformat": 4,
 "nbformat_minor": 4
}
